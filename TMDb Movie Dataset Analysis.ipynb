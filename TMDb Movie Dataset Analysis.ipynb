{
 "cells": [
  {
   "cell_type": "markdown",
   "metadata": {},
   "source": [
    "# Project: TMDb Movie Data Analysis \n",
    "\n",
    "\n",
    "## Table of Contents\n",
    "<ul>\n",
    "<li><a href=\"#intro\">Introduction</a></li>\n",
    "<li><a href=\"#wrangling\">Data Wrangling</a></li>\n",
    "<li><a href=\"#eda\">Exploratory Data Analysis</a></li>\n",
    "<li><a href=\"#conclusions\">Conclusions</a></li>\n",
    "</ul>"
   ]
  },
  {
   "cell_type": "markdown",
   "metadata": {},
   "source": [
    "<a id='intro'></a>\n",
    "## Introduction"
   ]
  },
  {
   "cell_type": "markdown",
   "metadata": {},
   "source": [
    "For this data analysis project, I chose the data from '[TMDb Movie](https://www.themoviedb.org/)' . Since I've worked at the movie industry for a while, I often wondered which properties are highly related to the success of a certain movie. Success of a movie can be evaluated in many different ways. The popularity of the movie, or \"mostly\" the revenue (or sometimes both) of the movie could make can be use as a proxy to measure success. In this analysis, I mainly investigated which properties of movie are associated with the popularity/revenue of the movie. \n",
    "\n",
    "In this dataset, 10,866 samples and and several features are collected as follows: \n",
    "\n",
    "> - Financial Information (budget(adjusted budget), revenue(adjusted revenue))\n",
    "> - Evaluation Information (popularity, vote count, vote average)\n",
    "> - Product Information (original title, cast, director, tagline, keywords, overview, runtime, genres, released date, released year)\n",
    "> - Others (homepage, production companies)\n",
    "\n",
    "Based on the provided dataset, I came up with several detailed questions as follows: \n",
    "\n",
    "> 1. Which genres are most popular from year to year?\n",
    "> 2. What kinds of properties are associated with high revenue movies?\n",
    "> 3. Are the popular genres significantly associated with the movies' revenues?\n",
    "> 4. How does the annual revenue in movie industry change over the years?\n",
    "> 5. Does the average popularity increase over the years?\n",
    "\n",
    "To make this analysis more efficiently, I imported the following packages. "
   ]
  },
  {
   "cell_type": "code",
   "execution_count": 1,
   "metadata": {},
   "outputs": [],
   "source": [
    "import numpy as np\n",
    "import pandas as pd \n",
    "import matplotlib.pyplot as plt\n",
    "import seaborn as sns \n",
    "%matplotlib inline"
   ]
  },
  {
   "cell_type": "markdown",
   "metadata": {},
   "source": [
    "<a id='wrangling'></a>\n",
    "## Data Wrangling\n",
    "\n",
    "\n",
    "### General Properties"
   ]
  },
  {
   "cell_type": "code",
   "execution_count": 2,
   "metadata": {
    "scrolled": false
   },
   "outputs": [
    {
     "data": {
      "text/html": [
       "<div>\n",
       "<style scoped>\n",
       "    .dataframe tbody tr th:only-of-type {\n",
       "        vertical-align: middle;\n",
       "    }\n",
       "\n",
       "    .dataframe tbody tr th {\n",
       "        vertical-align: top;\n",
       "    }\n",
       "\n",
       "    .dataframe thead th {\n",
       "        text-align: right;\n",
       "    }\n",
       "</style>\n",
       "<table border=\"1\" class=\"dataframe\">\n",
       "  <thead>\n",
       "    <tr style=\"text-align: right;\">\n",
       "      <th></th>\n",
       "      <th>id</th>\n",
       "      <th>imdb_id</th>\n",
       "      <th>popularity</th>\n",
       "      <th>budget</th>\n",
       "      <th>revenue</th>\n",
       "      <th>original_title</th>\n",
       "      <th>cast</th>\n",
       "      <th>homepage</th>\n",
       "      <th>director</th>\n",
       "      <th>tagline</th>\n",
       "      <th>...</th>\n",
       "      <th>overview</th>\n",
       "      <th>runtime</th>\n",
       "      <th>genres</th>\n",
       "      <th>production_companies</th>\n",
       "      <th>release_date</th>\n",
       "      <th>vote_count</th>\n",
       "      <th>vote_average</th>\n",
       "      <th>release_year</th>\n",
       "      <th>budget_adj</th>\n",
       "      <th>revenue_adj</th>\n",
       "    </tr>\n",
       "  </thead>\n",
       "  <tbody>\n",
       "    <tr>\n",
       "      <th>0</th>\n",
       "      <td>135397</td>\n",
       "      <td>tt0369610</td>\n",
       "      <td>32.985763</td>\n",
       "      <td>150000000</td>\n",
       "      <td>1513528810</td>\n",
       "      <td>Jurassic World</td>\n",
       "      <td>Chris Pratt|Bryce Dallas Howard|Irrfan Khan|Vi...</td>\n",
       "      <td>http://www.jurassicworld.com/</td>\n",
       "      <td>Colin Trevorrow</td>\n",
       "      <td>The park is open.</td>\n",
       "      <td>...</td>\n",
       "      <td>Twenty-two years after the events of Jurassic ...</td>\n",
       "      <td>124</td>\n",
       "      <td>Action|Adventure|Science Fiction|Thriller</td>\n",
       "      <td>Universal Studios|Amblin Entertainment|Legenda...</td>\n",
       "      <td>6/9/15</td>\n",
       "      <td>5562</td>\n",
       "      <td>6.5</td>\n",
       "      <td>2015</td>\n",
       "      <td>1.379999e+08</td>\n",
       "      <td>1.392446e+09</td>\n",
       "    </tr>\n",
       "    <tr>\n",
       "      <th>1</th>\n",
       "      <td>76341</td>\n",
       "      <td>tt1392190</td>\n",
       "      <td>28.419936</td>\n",
       "      <td>150000000</td>\n",
       "      <td>378436354</td>\n",
       "      <td>Mad Max: Fury Road</td>\n",
       "      <td>Tom Hardy|Charlize Theron|Hugh Keays-Byrne|Nic...</td>\n",
       "      <td>http://www.madmaxmovie.com/</td>\n",
       "      <td>George Miller</td>\n",
       "      <td>What a Lovely Day.</td>\n",
       "      <td>...</td>\n",
       "      <td>An apocalyptic story set in the furthest reach...</td>\n",
       "      <td>120</td>\n",
       "      <td>Action|Adventure|Science Fiction|Thriller</td>\n",
       "      <td>Village Roadshow Pictures|Kennedy Miller Produ...</td>\n",
       "      <td>5/13/15</td>\n",
       "      <td>6185</td>\n",
       "      <td>7.1</td>\n",
       "      <td>2015</td>\n",
       "      <td>1.379999e+08</td>\n",
       "      <td>3.481613e+08</td>\n",
       "    </tr>\n",
       "    <tr>\n",
       "      <th>2</th>\n",
       "      <td>262500</td>\n",
       "      <td>tt2908446</td>\n",
       "      <td>13.112507</td>\n",
       "      <td>110000000</td>\n",
       "      <td>295238201</td>\n",
       "      <td>Insurgent</td>\n",
       "      <td>Shailene Woodley|Theo James|Kate Winslet|Ansel...</td>\n",
       "      <td>http://www.thedivergentseries.movie/#insurgent</td>\n",
       "      <td>Robert Schwentke</td>\n",
       "      <td>One Choice Can Destroy You</td>\n",
       "      <td>...</td>\n",
       "      <td>Beatrice Prior must confront her inner demons ...</td>\n",
       "      <td>119</td>\n",
       "      <td>Adventure|Science Fiction|Thriller</td>\n",
       "      <td>Summit Entertainment|Mandeville Films|Red Wago...</td>\n",
       "      <td>3/18/15</td>\n",
       "      <td>2480</td>\n",
       "      <td>6.3</td>\n",
       "      <td>2015</td>\n",
       "      <td>1.012000e+08</td>\n",
       "      <td>2.716190e+08</td>\n",
       "    </tr>\n",
       "    <tr>\n",
       "      <th>3</th>\n",
       "      <td>140607</td>\n",
       "      <td>tt2488496</td>\n",
       "      <td>11.173104</td>\n",
       "      <td>200000000</td>\n",
       "      <td>2068178225</td>\n",
       "      <td>Star Wars: The Force Awakens</td>\n",
       "      <td>Harrison Ford|Mark Hamill|Carrie Fisher|Adam D...</td>\n",
       "      <td>http://www.starwars.com/films/star-wars-episod...</td>\n",
       "      <td>J.J. Abrams</td>\n",
       "      <td>Every generation has a story.</td>\n",
       "      <td>...</td>\n",
       "      <td>Thirty years after defeating the Galactic Empi...</td>\n",
       "      <td>136</td>\n",
       "      <td>Action|Adventure|Science Fiction|Fantasy</td>\n",
       "      <td>Lucasfilm|Truenorth Productions|Bad Robot</td>\n",
       "      <td>12/15/15</td>\n",
       "      <td>5292</td>\n",
       "      <td>7.5</td>\n",
       "      <td>2015</td>\n",
       "      <td>1.839999e+08</td>\n",
       "      <td>1.902723e+09</td>\n",
       "    </tr>\n",
       "    <tr>\n",
       "      <th>4</th>\n",
       "      <td>168259</td>\n",
       "      <td>tt2820852</td>\n",
       "      <td>9.335014</td>\n",
       "      <td>190000000</td>\n",
       "      <td>1506249360</td>\n",
       "      <td>Furious 7</td>\n",
       "      <td>Vin Diesel|Paul Walker|Jason Statham|Michelle ...</td>\n",
       "      <td>http://www.furious7.com/</td>\n",
       "      <td>James Wan</td>\n",
       "      <td>Vengeance Hits Home</td>\n",
       "      <td>...</td>\n",
       "      <td>Deckard Shaw seeks revenge against Dominic Tor...</td>\n",
       "      <td>137</td>\n",
       "      <td>Action|Crime|Thriller</td>\n",
       "      <td>Universal Pictures|Original Film|Media Rights ...</td>\n",
       "      <td>4/1/15</td>\n",
       "      <td>2947</td>\n",
       "      <td>7.3</td>\n",
       "      <td>2015</td>\n",
       "      <td>1.747999e+08</td>\n",
       "      <td>1.385749e+09</td>\n",
       "    </tr>\n",
       "  </tbody>\n",
       "</table>\n",
       "<p>5 rows × 21 columns</p>\n",
       "</div>"
      ],
      "text/plain": [
       "       id    imdb_id  popularity     budget     revenue  \\\n",
       "0  135397  tt0369610   32.985763  150000000  1513528810   \n",
       "1   76341  tt1392190   28.419936  150000000   378436354   \n",
       "2  262500  tt2908446   13.112507  110000000   295238201   \n",
       "3  140607  tt2488496   11.173104  200000000  2068178225   \n",
       "4  168259  tt2820852    9.335014  190000000  1506249360   \n",
       "\n",
       "                 original_title  \\\n",
       "0                Jurassic World   \n",
       "1            Mad Max: Fury Road   \n",
       "2                     Insurgent   \n",
       "3  Star Wars: The Force Awakens   \n",
       "4                     Furious 7   \n",
       "\n",
       "                                                cast  \\\n",
       "0  Chris Pratt|Bryce Dallas Howard|Irrfan Khan|Vi...   \n",
       "1  Tom Hardy|Charlize Theron|Hugh Keays-Byrne|Nic...   \n",
       "2  Shailene Woodley|Theo James|Kate Winslet|Ansel...   \n",
       "3  Harrison Ford|Mark Hamill|Carrie Fisher|Adam D...   \n",
       "4  Vin Diesel|Paul Walker|Jason Statham|Michelle ...   \n",
       "\n",
       "                                            homepage          director  \\\n",
       "0                      http://www.jurassicworld.com/   Colin Trevorrow   \n",
       "1                        http://www.madmaxmovie.com/     George Miller   \n",
       "2     http://www.thedivergentseries.movie/#insurgent  Robert Schwentke   \n",
       "3  http://www.starwars.com/films/star-wars-episod...       J.J. Abrams   \n",
       "4                           http://www.furious7.com/         James Wan   \n",
       "\n",
       "                         tagline  ...  \\\n",
       "0              The park is open.  ...   \n",
       "1             What a Lovely Day.  ...   \n",
       "2     One Choice Can Destroy You  ...   \n",
       "3  Every generation has a story.  ...   \n",
       "4            Vengeance Hits Home  ...   \n",
       "\n",
       "                                            overview runtime  \\\n",
       "0  Twenty-two years after the events of Jurassic ...     124   \n",
       "1  An apocalyptic story set in the furthest reach...     120   \n",
       "2  Beatrice Prior must confront her inner demons ...     119   \n",
       "3  Thirty years after defeating the Galactic Empi...     136   \n",
       "4  Deckard Shaw seeks revenge against Dominic Tor...     137   \n",
       "\n",
       "                                      genres  \\\n",
       "0  Action|Adventure|Science Fiction|Thriller   \n",
       "1  Action|Adventure|Science Fiction|Thriller   \n",
       "2         Adventure|Science Fiction|Thriller   \n",
       "3   Action|Adventure|Science Fiction|Fantasy   \n",
       "4                      Action|Crime|Thriller   \n",
       "\n",
       "                                production_companies release_date vote_count  \\\n",
       "0  Universal Studios|Amblin Entertainment|Legenda...       6/9/15       5562   \n",
       "1  Village Roadshow Pictures|Kennedy Miller Produ...      5/13/15       6185   \n",
       "2  Summit Entertainment|Mandeville Films|Red Wago...      3/18/15       2480   \n",
       "3          Lucasfilm|Truenorth Productions|Bad Robot     12/15/15       5292   \n",
       "4  Universal Pictures|Original Film|Media Rights ...       4/1/15       2947   \n",
       "\n",
       "   vote_average  release_year    budget_adj   revenue_adj  \n",
       "0           6.5          2015  1.379999e+08  1.392446e+09  \n",
       "1           7.1          2015  1.379999e+08  3.481613e+08  \n",
       "2           6.3          2015  1.012000e+08  2.716190e+08  \n",
       "3           7.5          2015  1.839999e+08  1.902723e+09  \n",
       "4           7.3          2015  1.747999e+08  1.385749e+09  \n",
       "\n",
       "[5 rows x 21 columns]"
      ]
     },
     "execution_count": 2,
     "metadata": {},
     "output_type": "execute_result"
    }
   ],
   "source": [
    "# Load the TMDb Movie data and print out a few lines\n",
    "original_df= pd.read_csv('tmdb-movies.csv')\n",
    "original_df.head()"
   ]
  },
  {
   "cell_type": "code",
   "execution_count": 3,
   "metadata": {
    "scrolled": false
   },
   "outputs": [
    {
     "data": {
      "text/plain": [
       "(10866, 21)"
      ]
     },
     "execution_count": 3,
     "metadata": {},
     "output_type": "execute_result"
    }
   ],
   "source": [
    "# Check the number of samples / features in each dataset\n",
    "original_df.shape"
   ]
  },
  {
   "cell_type": "code",
   "execution_count": 4,
   "metadata": {},
   "outputs": [
    {
     "name": "stdout",
     "output_type": "stream",
     "text": [
      "The number of duplicated data: 1\n"
     ]
    }
   ],
   "source": [
    "# Find duplicated rows in each dataset and drop the duplicates\n",
    "print ('The number of duplicated data:', sum(original_df.duplicated()))\n",
    "original_df.drop_duplicates(inplace=True) "
   ]
  },
  {
   "cell_type": "code",
   "execution_count": 5,
   "metadata": {
    "scrolled": false
   },
   "outputs": [
    {
     "name": "stdout",
     "output_type": "stream",
     "text": [
      "<class 'pandas.core.frame.DataFrame'>\n",
      "Int64Index: 10865 entries, 0 to 10865\n",
      "Data columns (total 21 columns):\n",
      " #   Column                Non-Null Count  Dtype  \n",
      "---  ------                --------------  -----  \n",
      " 0   id                    10865 non-null  int64  \n",
      " 1   imdb_id               10855 non-null  object \n",
      " 2   popularity            10865 non-null  float64\n",
      " 3   budget                10865 non-null  int64  \n",
      " 4   revenue               10865 non-null  int64  \n",
      " 5   original_title        10865 non-null  object \n",
      " 6   cast                  10789 non-null  object \n",
      " 7   homepage              2936 non-null   object \n",
      " 8   director              10821 non-null  object \n",
      " 9   tagline               8041 non-null   object \n",
      " 10  keywords              9372 non-null   object \n",
      " 11  overview              10861 non-null  object \n",
      " 12  runtime               10865 non-null  int64  \n",
      " 13  genres                10842 non-null  object \n",
      " 14  production_companies  9835 non-null   object \n",
      " 15  release_date          10865 non-null  object \n",
      " 16  vote_count            10865 non-null  int64  \n",
      " 17  vote_average          10865 non-null  float64\n",
      " 18  release_year          10865 non-null  int64  \n",
      " 19  budget_adj            10865 non-null  float64\n",
      " 20  revenue_adj           10865 non-null  float64\n",
      "dtypes: float64(4), int64(6), object(11)\n",
      "memory usage: 1.8+ MB\n"
     ]
    }
   ],
   "source": [
    "# Check the datatypes and missing values of all columns \n",
    "original_df.info()"
   ]
  },
  {
   "cell_type": "markdown",
   "metadata": {},
   "source": [
    "> First, I've checked general properties of the dataset. The original dataset includes 10,866 samples and 21 features. One of the samples is duplicated, so I dropped it. There are some features including missing values. Some features seem unuseful for the purpose of this analysis. So, I re-examined the features having missing values after filtering out the irrelvant columns. "
   ]
  },
  {
   "cell_type": "code",
   "execution_count": 6,
   "metadata": {},
   "outputs": [],
   "source": [
    "# Drop irrelevant columns for this analysis.\n",
    "movie_df = original_df.copy()\n",
    "unuseful_col= ['id', 'homepage', 'tagline', 'imdb_id', 'original_title',\n",
    "               'keywords', 'overview', 'budget', 'revenue', 'production_companies','cast', 'director' ]\n",
    "movie_df.drop(unuseful_col, axis=1, inplace = True)"
   ]
  },
  {
   "cell_type": "code",
   "execution_count": 7,
   "metadata": {
    "scrolled": false
   },
   "outputs": [
    {
     "data": {
      "text/plain": [
       "array([1960, 1961, 1962, 1963, 1964, 1965, 1966, 1967, 1968, 1969, 1970,\n",
       "       1971, 1972, 1973, 1974, 1975, 1976, 1977, 1978, 1979, 1980, 1981,\n",
       "       1982, 1983, 1984, 1985, 1986, 1987, 1988, 1989, 1990, 1991, 1992,\n",
       "       1993, 1994, 1995, 1996, 1997, 1998, 1999, 2000, 2001, 2002, 2003,\n",
       "       2004, 2005, 2006, 2007, 2008, 2009, 2010, 2011, 2012, 2013, 2014,\n",
       "       2015], dtype=int64)"
      ]
     },
     "execution_count": 7,
     "metadata": {},
     "output_type": "execute_result"
    }
   ],
   "source": [
    "np.sort(movie_df.release_year.unique())"
   ]
  },
  {
   "cell_type": "code",
   "execution_count": 8,
   "metadata": {
    "scrolled": false
   },
   "outputs": [
    {
     "data": {
      "text/plain": [
       "56"
      ]
     },
     "execution_count": 8,
     "metadata": {},
     "output_type": "execute_result"
    }
   ],
   "source": [
    "len(movie_df.release_year.unique())"
   ]
  },
  {
   "cell_type": "markdown",
   "metadata": {},
   "source": [
    "> I copied the orignal dataframe and drop the irrelevant columns from the copied dataframe, which is called _\"movie_df\"_. The movie samples are collected in the dataset annually from 1960 to 2015, for 56 years. "
   ]
  },
  {
   "cell_type": "code",
   "execution_count": 9,
   "metadata": {},
   "outputs": [
    {
     "data": {
      "text/html": [
       "<div>\n",
       "<style scoped>\n",
       "    .dataframe tbody tr th:only-of-type {\n",
       "        vertical-align: middle;\n",
       "    }\n",
       "\n",
       "    .dataframe tbody tr th {\n",
       "        vertical-align: top;\n",
       "    }\n",
       "\n",
       "    .dataframe thead th {\n",
       "        text-align: right;\n",
       "    }\n",
       "</style>\n",
       "<table border=\"1\" class=\"dataframe\">\n",
       "  <thead>\n",
       "    <tr style=\"text-align: right;\">\n",
       "      <th></th>\n",
       "      <th>popularity</th>\n",
       "      <th>runtime</th>\n",
       "      <th>vote_count</th>\n",
       "      <th>vote_average</th>\n",
       "      <th>release_year</th>\n",
       "      <th>budget_adj</th>\n",
       "      <th>revenue_adj</th>\n",
       "    </tr>\n",
       "  </thead>\n",
       "  <tbody>\n",
       "    <tr>\n",
       "      <th>count</th>\n",
       "      <td>10865.00</td>\n",
       "      <td>10865.00</td>\n",
       "      <td>10865.00</td>\n",
       "      <td>10865.00</td>\n",
       "      <td>10865.00</td>\n",
       "      <td>10865.00</td>\n",
       "      <td>10865.00</td>\n",
       "    </tr>\n",
       "    <tr>\n",
       "      <th>mean</th>\n",
       "      <td>0.65</td>\n",
       "      <td>102.07</td>\n",
       "      <td>217.40</td>\n",
       "      <td>5.98</td>\n",
       "      <td>2001.32</td>\n",
       "      <td>17549894.04</td>\n",
       "      <td>51369001.76</td>\n",
       "    </tr>\n",
       "    <tr>\n",
       "      <th>std</th>\n",
       "      <td>1.00</td>\n",
       "      <td>31.38</td>\n",
       "      <td>575.64</td>\n",
       "      <td>0.94</td>\n",
       "      <td>12.81</td>\n",
       "      <td>34307526.66</td>\n",
       "      <td>144638333.13</td>\n",
       "    </tr>\n",
       "    <tr>\n",
       "      <th>min</th>\n",
       "      <td>0.00</td>\n",
       "      <td>0.00</td>\n",
       "      <td>10.00</td>\n",
       "      <td>1.50</td>\n",
       "      <td>1960.00</td>\n",
       "      <td>0.00</td>\n",
       "      <td>0.00</td>\n",
       "    </tr>\n",
       "    <tr>\n",
       "      <th>25%</th>\n",
       "      <td>0.21</td>\n",
       "      <td>90.00</td>\n",
       "      <td>17.00</td>\n",
       "      <td>5.40</td>\n",
       "      <td>1995.00</td>\n",
       "      <td>0.00</td>\n",
       "      <td>0.00</td>\n",
       "    </tr>\n",
       "    <tr>\n",
       "      <th>50%</th>\n",
       "      <td>0.38</td>\n",
       "      <td>99.00</td>\n",
       "      <td>38.00</td>\n",
       "      <td>6.00</td>\n",
       "      <td>2006.00</td>\n",
       "      <td>0.00</td>\n",
       "      <td>0.00</td>\n",
       "    </tr>\n",
       "    <tr>\n",
       "      <th>75%</th>\n",
       "      <td>0.71</td>\n",
       "      <td>111.00</td>\n",
       "      <td>146.00</td>\n",
       "      <td>6.60</td>\n",
       "      <td>2011.00</td>\n",
       "      <td>20853251.08</td>\n",
       "      <td>33701729.01</td>\n",
       "    </tr>\n",
       "    <tr>\n",
       "      <th>max</th>\n",
       "      <td>32.99</td>\n",
       "      <td>900.00</td>\n",
       "      <td>9767.00</td>\n",
       "      <td>9.20</td>\n",
       "      <td>2015.00</td>\n",
       "      <td>425000000.00</td>\n",
       "      <td>2827123750.41</td>\n",
       "    </tr>\n",
       "  </tbody>\n",
       "</table>\n",
       "</div>"
      ],
      "text/plain": [
       "       popularity  runtime  vote_count  vote_average  release_year  \\\n",
       "count    10865.00 10865.00    10865.00      10865.00      10865.00   \n",
       "mean         0.65   102.07      217.40          5.98       2001.32   \n",
       "std          1.00    31.38      575.64          0.94         12.81   \n",
       "min          0.00     0.00       10.00          1.50       1960.00   \n",
       "25%          0.21    90.00       17.00          5.40       1995.00   \n",
       "50%          0.38    99.00       38.00          6.00       2006.00   \n",
       "75%          0.71   111.00      146.00          6.60       2011.00   \n",
       "max         32.99   900.00     9767.00          9.20       2015.00   \n",
       "\n",
       "        budget_adj   revenue_adj  \n",
       "count     10865.00      10865.00  \n",
       "mean   17549894.04   51369001.76  \n",
       "std    34307526.66  144638333.13  \n",
       "min           0.00          0.00  \n",
       "25%           0.00          0.00  \n",
       "50%           0.00          0.00  \n",
       "75%    20853251.08   33701729.01  \n",
       "max   425000000.00 2827123750.41  "
      ]
     },
     "execution_count": 9,
     "metadata": {},
     "output_type": "execute_result"
    }
   ],
   "source": [
    "# Turn off scientific notation in pandas \n",
    "pd.set_option('display.float_format', lambda x: '%.2f' % x)\n",
    "# After dropping the irrelevant columns, check again the columns \n",
    "movie_df.describe()"
   ]
  },
  {
   "cell_type": "markdown",
   "metadata": {},
   "source": [
    "> From the describe table, at least 50% of movies having no budget and no revenue. Especially the movies with zero budgets seem very unreliable, without additional information. Thus, those movies are removed from the dataset. "
   ]
  },
  {
   "cell_type": "code",
   "execution_count": 10,
   "metadata": {},
   "outputs": [
    {
     "data": {
      "text/plain": [
       "(5169, 9)"
      ]
     },
     "execution_count": 10,
     "metadata": {},
     "output_type": "execute_result"
    }
   ],
   "source": [
    "# Movies without zero budgets are stored to the dataframe: \"movie_mod\"\n",
    "movie_mod = movie_df.query('budget_adj > 0')\n",
    "movie_mod.shape"
   ]
  },
  {
   "cell_type": "code",
   "execution_count": 11,
   "metadata": {
    "scrolled": false
   },
   "outputs": [
    {
     "name": "stdout",
     "output_type": "stream",
     "text": [
      "<class 'pandas.core.frame.DataFrame'>\n",
      "Int64Index: 5169 entries, 0 to 10865\n",
      "Data columns (total 9 columns):\n",
      " #   Column        Non-Null Count  Dtype  \n",
      "---  ------        --------------  -----  \n",
      " 0   popularity    5169 non-null   float64\n",
      " 1   runtime       5169 non-null   int64  \n",
      " 2   genres        5168 non-null   object \n",
      " 3   release_date  5169 non-null   object \n",
      " 4   vote_count    5169 non-null   int64  \n",
      " 5   vote_average  5169 non-null   float64\n",
      " 6   release_year  5169 non-null   int64  \n",
      " 7   budget_adj    5169 non-null   float64\n",
      " 8   revenue_adj   5169 non-null   float64\n",
      "dtypes: float64(4), int64(3), object(2)\n",
      "memory usage: 403.8+ KB\n"
     ]
    }
   ],
   "source": [
    "movie_mod.info()"
   ]
  },
  {
   "cell_type": "code",
   "execution_count": 12,
   "metadata": {},
   "outputs": [
    {
     "data": {
      "text/html": [
       "<div>\n",
       "<style scoped>\n",
       "    .dataframe tbody tr th:only-of-type {\n",
       "        vertical-align: middle;\n",
       "    }\n",
       "\n",
       "    .dataframe tbody tr th {\n",
       "        vertical-align: top;\n",
       "    }\n",
       "\n",
       "    .dataframe thead th {\n",
       "        text-align: right;\n",
       "    }\n",
       "</style>\n",
       "<table border=\"1\" class=\"dataframe\">\n",
       "  <thead>\n",
       "    <tr style=\"text-align: right;\">\n",
       "      <th></th>\n",
       "      <th>popularity</th>\n",
       "      <th>runtime</th>\n",
       "      <th>vote_count</th>\n",
       "      <th>vote_average</th>\n",
       "      <th>release_year</th>\n",
       "      <th>budget_adj</th>\n",
       "      <th>revenue_adj</th>\n",
       "    </tr>\n",
       "  </thead>\n",
       "  <tbody>\n",
       "    <tr>\n",
       "      <th>count</th>\n",
       "      <td>5169.00</td>\n",
       "      <td>5169.00</td>\n",
       "      <td>5169.00</td>\n",
       "      <td>5169.00</td>\n",
       "      <td>5169.00</td>\n",
       "      <td>5169.00</td>\n",
       "      <td>5169.00</td>\n",
       "    </tr>\n",
       "    <tr>\n",
       "      <th>mean</th>\n",
       "      <td>0.99</td>\n",
       "      <td>107.10</td>\n",
       "      <td>408.65</td>\n",
       "      <td>6.03</td>\n",
       "      <td>2001.25</td>\n",
       "      <td>36889069.20</td>\n",
       "      <td>102195263.38</td>\n",
       "    </tr>\n",
       "    <tr>\n",
       "      <th>std</th>\n",
       "      <td>1.33</td>\n",
       "      <td>22.81</td>\n",
       "      <td>788.31</td>\n",
       "      <td>0.88</td>\n",
       "      <td>11.78</td>\n",
       "      <td>41960957.85</td>\n",
       "      <td>195919401.69</td>\n",
       "    </tr>\n",
       "    <tr>\n",
       "      <th>min</th>\n",
       "      <td>0.00</td>\n",
       "      <td>0.00</td>\n",
       "      <td>10.00</td>\n",
       "      <td>1.50</td>\n",
       "      <td>1960.00</td>\n",
       "      <td>0.92</td>\n",
       "      <td>0.00</td>\n",
       "    </tr>\n",
       "    <tr>\n",
       "      <th>25%</th>\n",
       "      <td>0.35</td>\n",
       "      <td>93.00</td>\n",
       "      <td>35.00</td>\n",
       "      <td>5.50</td>\n",
       "      <td>1996.00</td>\n",
       "      <td>8102293.07</td>\n",
       "      <td>0.00</td>\n",
       "    </tr>\n",
       "    <tr>\n",
       "      <th>50%</th>\n",
       "      <td>0.62</td>\n",
       "      <td>103.00</td>\n",
       "      <td>122.00</td>\n",
       "      <td>6.10</td>\n",
       "      <td>2005.00</td>\n",
       "      <td>22715052.32</td>\n",
       "      <td>28631665.83</td>\n",
       "    </tr>\n",
       "    <tr>\n",
       "      <th>75%</th>\n",
       "      <td>1.15</td>\n",
       "      <td>117.00</td>\n",
       "      <td>402.00</td>\n",
       "      <td>6.60</td>\n",
       "      <td>2010.00</td>\n",
       "      <td>50083840.35</td>\n",
       "      <td>113419570.98</td>\n",
       "    </tr>\n",
       "    <tr>\n",
       "      <th>max</th>\n",
       "      <td>32.99</td>\n",
       "      <td>540.00</td>\n",
       "      <td>9767.00</td>\n",
       "      <td>8.40</td>\n",
       "      <td>2015.00</td>\n",
       "      <td>425000000.00</td>\n",
       "      <td>2827123750.41</td>\n",
       "    </tr>\n",
       "  </tbody>\n",
       "</table>\n",
       "</div>"
      ],
      "text/plain": [
       "       popularity  runtime  vote_count  vote_average  release_year  \\\n",
       "count     5169.00  5169.00     5169.00       5169.00       5169.00   \n",
       "mean         0.99   107.10      408.65          6.03       2001.25   \n",
       "std          1.33    22.81      788.31          0.88         11.78   \n",
       "min          0.00     0.00       10.00          1.50       1960.00   \n",
       "25%          0.35    93.00       35.00          5.50       1996.00   \n",
       "50%          0.62   103.00      122.00          6.10       2005.00   \n",
       "75%          1.15   117.00      402.00          6.60       2010.00   \n",
       "max         32.99   540.00     9767.00          8.40       2015.00   \n",
       "\n",
       "        budget_adj   revenue_adj  \n",
       "count      5169.00       5169.00  \n",
       "mean   36889069.20  102195263.38  \n",
       "std    41960957.85  195919401.69  \n",
       "min           0.92          0.00  \n",
       "25%     8102293.07          0.00  \n",
       "50%    22715052.32   28631665.83  \n",
       "75%    50083840.35  113419570.98  \n",
       "max   425000000.00 2827123750.41  "
      ]
     },
     "execution_count": 12,
     "metadata": {},
     "output_type": "execute_result"
    }
   ],
   "source": [
    "movie_mod.describe()"
   ]
  },
  {
   "cell_type": "markdown",
   "metadata": {},
   "source": [
    "> After dropping the irrelevant columns and unreliable datapoints, 9 features and 5,169 unique samples remain in the dataset. \n",
    "Only the feature 'genres' has one missing value. I've decided to use 'budget_adj' and 'revenue_adj', instead of 'budget' and 'revenue' thoughout the analysis. Since they are adjusted to inflation issues over the years, we can compare the movies more fairly over the year."
   ]
  },
  {
   "cell_type": "code",
   "execution_count": 13,
   "metadata": {},
   "outputs": [
    {
     "data": {
      "text/plain": [
       "array([[<matplotlib.axes._subplots.AxesSubplot object at 0x00000288F0435608>,\n",
       "        <matplotlib.axes._subplots.AxesSubplot object at 0x00000288F0B7AC88>,\n",
       "        <matplotlib.axes._subplots.AxesSubplot object at 0x00000288F0BB7C08>],\n",
       "       [<matplotlib.axes._subplots.AxesSubplot object at 0x00000288F0BEFD08>,\n",
       "        <matplotlib.axes._subplots.AxesSubplot object at 0x00000288F0C28E08>,\n",
       "        <matplotlib.axes._subplots.AxesSubplot object at 0x00000288F0C5FF08>],\n",
       "       [<matplotlib.axes._subplots.AxesSubplot object at 0x00000288F0CA3FC8>,\n",
       "        <matplotlib.axes._subplots.AxesSubplot object at 0x00000288F0CD5088>,\n",
       "        <matplotlib.axes._subplots.AxesSubplot object at 0x00000288F0CE1188>]],\n",
       "      dtype=object)"
      ]
     },
     "execution_count": 13,
     "metadata": {},
     "output_type": "execute_result"
    },
    {
     "data": {
      "image/png": "[encoded data removed]",
      "text/plain": [
       "<Figure size 1080x1080 with 9 Axes>"
      ]
     },
     "metadata": {
      "needs_background": "light"
     },
     "output_type": "display_data"
    }
   ],
   "source": [
    "movie_mod.hist( figsize= (15,15))"
   ]
  },
  {
   "cell_type": "markdown",
   "metadata": {},
   "source": [
    "> - The histogram of 'release_year' shows that the number of movies released in each year has been increased exponentially. This partially explains that the film industry has grown rapidly for the last half a century. \n",
    "> - 'vote_average'  is pretty much normally distributed.\n",
    "> - The running time of most films are between 50 minutes and 150 minutes. \n",
    "> - The distributions of the rest features are highly skewed to the right. From the descriptive statistic information and the histograms, we can also expect the features have several outliers. When I checked the original title of the outliers, they are apparently world-wide famous movies, such as _'Jurassic World', 'Inception', 'The Avengers'_ and so on. It is obvious that such extraordinarily successful movies could achieve high value in some properties such as 'popularity'. Thus, I decided not to exclude the outliers from this analysis. "
   ]
  },
  {
   "cell_type": "markdown",
   "metadata": {},
   "source": [
    "### Data Cleaning\n",
    "\n",
    "#### 1. Removing dulipated information\n",
    "\n",
    "> The two columns: 'release_date' and 'release_year' contain the same information. \n",
    "Thus, I dropped the column : 'release_date', because 'release_year' has cleaner data. "
   ]
  },
  {
   "cell_type": "code",
   "execution_count": 14,
   "metadata": {
    "scrolled": true
   },
   "outputs": [
    {
     "name": "stderr",
     "output_type": "stream",
     "text": [
      "C:\\Users\\wonso\\anaconda3\\lib\\site-packages\\pandas\\core\\frame.py:3997: SettingWithCopyWarning: \n",
      "A value is trying to be set on a copy of a slice from a DataFrame\n",
      "\n",
      "See the caveats in the documentation: https://pandas.pydata.org/pandas-docs/stable/user_guide/indexing.html#returning-a-view-versus-a-copy\n",
      "  errors=errors,\n"
     ]
    }
   ],
   "source": [
    "movie_mod.drop(['release_date'], axis=1, inplace = True);"
   ]
  },
  {
   "cell_type": "code",
   "execution_count": 15,
   "metadata": {
    "scrolled": true
   },
   "outputs": [
    {
     "name": "stdout",
     "output_type": "stream",
     "text": [
      "<class 'pandas.core.frame.DataFrame'>\n",
      "Int64Index: 5169 entries, 0 to 10865\n",
      "Data columns (total 8 columns):\n",
      " #   Column        Non-Null Count  Dtype  \n",
      "---  ------        --------------  -----  \n",
      " 0   popularity    5169 non-null   float64\n",
      " 1   runtime       5169 non-null   int64  \n",
      " 2   genres        5168 non-null   object \n",
      " 3   vote_count    5169 non-null   int64  \n",
      " 4   vote_average  5169 non-null   float64\n",
      " 5   release_year  5169 non-null   int64  \n",
      " 6   budget_adj    5169 non-null   float64\n",
      " 7   revenue_adj   5169 non-null   float64\n",
      "dtypes: float64(4), int64(3), object(1)\n",
      "memory usage: 363.4+ KB\n"
     ]
    }
   ],
   "source": [
    "movie_mod.info()"
   ]
  },
  {
   "cell_type": "markdown",
   "metadata": {},
   "source": [
    "#### 2. Dealing with missing values \n",
    "\n",
    "> As you can see from _movie_mod_ information table, the column 'genres' has one missing value. First, I found out the datapoint containing the missing value of genres. Then using its index number, I searched other information about the sample from the previous dataframe:  \"original_df\". It turns out that the sample is called _\"The Party at Kitty and Stud's\"_, and its IMDb ID is \"tt0065904\". Based on the information, I found out the missing value from the website: [IMDb_tt0065904](https://www.imdb.com/title/tt0065904/). Finally, I filled up the missing value in the dataframe. Filling up the missing values was possible in this case, since there are very small number of missing values in the dataset. If many values are omitted, this method is not practical to be applied. "
   ]
  },
  {
   "cell_type": "code",
   "execution_count": 16,
   "metadata": {
    "scrolled": true
   },
   "outputs": [
    {
     "data": {
      "text/html": [
       "<div>\n",
       "<style scoped>\n",
       "    .dataframe tbody tr th:only-of-type {\n",
       "        vertical-align: middle;\n",
       "    }\n",
       "\n",
       "    .dataframe tbody tr th {\n",
       "        vertical-align: top;\n",
       "    }\n",
       "\n",
       "    .dataframe thead th {\n",
       "        text-align: right;\n",
       "    }\n",
       "</style>\n",
       "<table border=\"1\" class=\"dataframe\">\n",
       "  <thead>\n",
       "    <tr style=\"text-align: right;\">\n",
       "      <th></th>\n",
       "      <th>popularity</th>\n",
       "      <th>runtime</th>\n",
       "      <th>genres</th>\n",
       "      <th>vote_count</th>\n",
       "      <th>vote_average</th>\n",
       "      <th>release_year</th>\n",
       "      <th>budget_adj</th>\n",
       "      <th>revenue_adj</th>\n",
       "    </tr>\n",
       "  </thead>\n",
       "  <tbody>\n",
       "    <tr>\n",
       "      <th>10659</th>\n",
       "      <td>0.34</td>\n",
       "      <td>71</td>\n",
       "      <td>NaN</td>\n",
       "      <td>10</td>\n",
       "      <td>3.00</td>\n",
       "      <td>1970</td>\n",
       "      <td>28081.84</td>\n",
       "      <td>0.00</td>\n",
       "    </tr>\n",
       "  </tbody>\n",
       "</table>\n",
       "</div>"
      ],
      "text/plain": [
       "       popularity  runtime genres  vote_count  vote_average  release_year  \\\n",
       "10659        0.34       71    NaN          10          3.00          1970   \n",
       "\n",
       "       budget_adj  revenue_adj  \n",
       "10659    28081.84         0.00  "
      ]
     },
     "execution_count": 16,
     "metadata": {},
     "output_type": "execute_result"
    }
   ],
   "source": [
    "null_data = movie_mod[movie_mod.isnull().any(axis=1)]\n",
    "null_data # Find the sample whose 'genres' column is omitted"
   ]
  },
  {
   "cell_type": "code",
   "execution_count": 17,
   "metadata": {
    "scrolled": false
   },
   "outputs": [
    {
     "data": {
      "text/plain": [
       "id                                                                   4255\n",
       "imdb_id                                                         tt0065904\n",
       "popularity                                                           0.34\n",
       "budget                                                               5000\n",
       "revenue                                                                 0\n",
       "original_title                              The Party at Kitty and Stud's\n",
       "cast                    Sylvester Stallone|Henrietta Holm|Nicholas War...\n",
       "homepage                                                              NaN\n",
       "director                                                     Morton Lewis\n",
       "tagline                                                               NaN\n",
       "keywords                male nudity|female nudity|group sex|erection|p...\n",
       "overview                Kitty and Stud are lovers. They enjoy a robust...\n",
       "runtime                                                                71\n",
       "genres                                                                NaN\n",
       "production_companies                              Stallion Releasing Inc.\n",
       "release_date                                                      2/10/70\n",
       "vote_count                                                             10\n",
       "vote_average                                                         3.00\n",
       "release_year                                                         1970\n",
       "budget_adj                                                       28081.84\n",
       "revenue_adj                                                          0.00\n",
       "Name: 10659, dtype: object"
      ]
     },
     "execution_count": 17,
     "metadata": {},
     "output_type": "execute_result"
    }
   ],
   "source": [
    "original_df.iloc[10658, :] # Find the whole information about the datapoint"
   ]
  },
  {
   "cell_type": "code",
   "execution_count": 18,
   "metadata": {},
   "outputs": [
    {
     "name": "stderr",
     "output_type": "stream",
     "text": [
      "C:\\Users\\wonso\\anaconda3\\lib\\site-packages\\pandas\\core\\generic.py:6245: SettingWithCopyWarning: \n",
      "A value is trying to be set on a copy of a slice from a DataFrame\n",
      "\n",
      "See the caveats in the documentation: https://pandas.pydata.org/pandas-docs/stable/user_guide/indexing.html#returning-a-view-versus-a-copy\n",
      "  self._update_inplace(new_data)\n"
     ]
    }
   ],
   "source": [
    "values = {'genres': 'Adult|Comedy|Drama'} \n",
    "movie_mod.fillna(value=values, inplace = True); # Fill up the missing datapoint"
   ]
  },
  {
   "cell_type": "code",
   "execution_count": 19,
   "metadata": {},
   "outputs": [
    {
     "name": "stdout",
     "output_type": "stream",
     "text": [
      "<class 'pandas.core.frame.DataFrame'>\n",
      "Int64Index: 5169 entries, 0 to 10865\n",
      "Data columns (total 8 columns):\n",
      " #   Column        Non-Null Count  Dtype  \n",
      "---  ------        --------------  -----  \n",
      " 0   popularity    5169 non-null   float64\n",
      " 1   runtime       5169 non-null   int64  \n",
      " 2   genres        5169 non-null   object \n",
      " 3   vote_count    5169 non-null   int64  \n",
      " 4   vote_average  5169 non-null   float64\n",
      " 5   release_year  5169 non-null   int64  \n",
      " 6   budget_adj    5169 non-null   float64\n",
      " 7   revenue_adj   5169 non-null   float64\n",
      "dtypes: float64(4), int64(3), object(1)\n",
      "memory usage: 363.4+ KB\n"
     ]
    }
   ],
   "source": [
    "movie_mod.info() # All columns contain non-missing values. "
   ]
  },
  {
   "cell_type": "markdown",
   "metadata": {},
   "source": [
    "> After all, I ended up with  8 features and 5,169 samples. All features do not contain missing values. "
   ]
  },
  {
   "cell_type": "markdown",
   "metadata": {},
   "source": [
    "<a id='eda'></a>\n",
    "## Exploratory Data Analysis\n"
   ]
  },
  {
   "cell_type": "markdown",
   "metadata": {},
   "source": [
    "### Research Question 1:  Which genres are most popular from year to year?"
   ]
  },
  {
   "cell_type": "markdown",
   "metadata": {},
   "source": [
    ">- Only for this research question, I created a new dataframe called \"genre_df\" with relevant columns for the convenience of analysis. \n",
    ">- Most movies simultaneously belong to several genres. Thus, I split the column ('genres') with the delimiter '|', and convert the  categorical variable into indicator variables.\n",
    ">- Also, the popularity of a single movie represents the popularity of the **\"combined\"** genres. Therefore, I think the popularity score of a certain movie is not appropriate to be used as the popularity of individual genre. Instead, I decided to use the number of each genre released in each year, as the proxy of the genre popularity in that year. \n",
    ">- First, I analyse the most popular year of each genre (i.e. which year is the most popular year for each genre?).\n",
    ">- Second, I investigate the most popular genre fpr each year (i.e. which genre was the most popular since 1970?)  "
   ]
  },
  {
   "cell_type": "code",
   "execution_count": 20,
   "metadata": {
    "scrolled": false
   },
   "outputs": [
    {
     "data": {
      "text/html": [
       "<div>\n",
       "<style scoped>\n",
       "    .dataframe tbody tr th:only-of-type {\n",
       "        vertical-align: middle;\n",
       "    }\n",
       "\n",
       "    .dataframe tbody tr th {\n",
       "        vertical-align: top;\n",
       "    }\n",
       "\n",
       "    .dataframe thead th {\n",
       "        text-align: right;\n",
       "    }\n",
       "</style>\n",
       "<table border=\"1\" class=\"dataframe\">\n",
       "  <thead>\n",
       "    <tr style=\"text-align: right;\">\n",
       "      <th></th>\n",
       "      <th>release_year</th>\n",
       "      <th>genres</th>\n",
       "    </tr>\n",
       "  </thead>\n",
       "  <tbody>\n",
       "    <tr>\n",
       "      <th>0</th>\n",
       "      <td>2015</td>\n",
       "      <td>Action|Adventure|Science Fiction|Thriller</td>\n",
       "    </tr>\n",
       "    <tr>\n",
       "      <th>1</th>\n",
       "      <td>2015</td>\n",
       "      <td>Action|Adventure|Science Fiction|Thriller</td>\n",
       "    </tr>\n",
       "    <tr>\n",
       "      <th>2</th>\n",
       "      <td>2015</td>\n",
       "      <td>Adventure|Science Fiction|Thriller</td>\n",
       "    </tr>\n",
       "    <tr>\n",
       "      <th>3</th>\n",
       "      <td>2015</td>\n",
       "      <td>Action|Adventure|Science Fiction|Fantasy</td>\n",
       "    </tr>\n",
       "    <tr>\n",
       "      <th>4</th>\n",
       "      <td>2015</td>\n",
       "      <td>Action|Crime|Thriller</td>\n",
       "    </tr>\n",
       "  </tbody>\n",
       "</table>\n",
       "</div>"
      ],
      "text/plain": [
       "   release_year                                     genres\n",
       "0          2015  Action|Adventure|Science Fiction|Thriller\n",
       "1          2015  Action|Adventure|Science Fiction|Thriller\n",
       "2          2015         Adventure|Science Fiction|Thriller\n",
       "3          2015   Action|Adventure|Science Fiction|Fantasy\n",
       "4          2015                      Action|Crime|Thriller"
      ]
     },
     "execution_count": 20,
     "metadata": {},
     "output_type": "execute_result"
    }
   ],
   "source": [
    "# Create a new dataframe for this section only \n",
    "genre_df=movie_mod[['release_year', 'genres']]\n",
    "genre_df.head(5)"
   ]
  },
  {
   "cell_type": "code",
   "execution_count": 21,
   "metadata": {},
   "outputs": [
    {
     "data": {
      "text/html": [
       "<div>\n",
       "<style scoped>\n",
       "    .dataframe tbody tr th:only-of-type {\n",
       "        vertical-align: middle;\n",
       "    }\n",
       "\n",
       "    .dataframe tbody tr th {\n",
       "        vertical-align: top;\n",
       "    }\n",
       "\n",
       "    .dataframe thead th {\n",
       "        text-align: right;\n",
       "    }\n",
       "</style>\n",
       "<table border=\"1\" class=\"dataframe\">\n",
       "  <thead>\n",
       "    <tr style=\"text-align: right;\">\n",
       "      <th></th>\n",
       "      <th>release_year</th>\n",
       "      <th>Action</th>\n",
       "      <th>Adult</th>\n",
       "      <th>Adventure</th>\n",
       "      <th>Animation</th>\n",
       "      <th>Comedy</th>\n",
       "      <th>Crime</th>\n",
       "      <th>Documentary</th>\n",
       "      <th>Drama</th>\n",
       "      <th>Family</th>\n",
       "      <th>...</th>\n",
       "      <th>History</th>\n",
       "      <th>Horror</th>\n",
       "      <th>Music</th>\n",
       "      <th>Mystery</th>\n",
       "      <th>Romance</th>\n",
       "      <th>Science Fiction</th>\n",
       "      <th>TV Movie</th>\n",
       "      <th>Thriller</th>\n",
       "      <th>War</th>\n",
       "      <th>Western</th>\n",
       "    </tr>\n",
       "  </thead>\n",
       "  <tbody>\n",
       "    <tr>\n",
       "      <th>0</th>\n",
       "      <td>2015</td>\n",
       "      <td>1</td>\n",
       "      <td>0</td>\n",
       "      <td>1</td>\n",
       "      <td>0</td>\n",
       "      <td>0</td>\n",
       "      <td>0</td>\n",
       "      <td>0</td>\n",
       "      <td>0</td>\n",
       "      <td>0</td>\n",
       "      <td>...</td>\n",
       "      <td>0</td>\n",
       "      <td>0</td>\n",
       "      <td>0</td>\n",
       "      <td>0</td>\n",
       "      <td>0</td>\n",
       "      <td>1</td>\n",
       "      <td>0</td>\n",
       "      <td>1</td>\n",
       "      <td>0</td>\n",
       "      <td>0</td>\n",
       "    </tr>\n",
       "    <tr>\n",
       "      <th>1</th>\n",
       "      <td>2015</td>\n",
       "      <td>1</td>\n",
       "      <td>0</td>\n",
       "      <td>1</td>\n",
       "      <td>0</td>\n",
       "      <td>0</td>\n",
       "      <td>0</td>\n",
       "      <td>0</td>\n",
       "      <td>0</td>\n",
       "      <td>0</td>\n",
       "      <td>...</td>\n",
       "      <td>0</td>\n",
       "      <td>0</td>\n",
       "      <td>0</td>\n",
       "      <td>0</td>\n",
       "      <td>0</td>\n",
       "      <td>1</td>\n",
       "      <td>0</td>\n",
       "      <td>1</td>\n",
       "      <td>0</td>\n",
       "      <td>0</td>\n",
       "    </tr>\n",
       "    <tr>\n",
       "      <th>2</th>\n",
       "      <td>2015</td>\n",
       "      <td>0</td>\n",
       "      <td>0</td>\n",
       "      <td>1</td>\n",
       "      <td>0</td>\n",
       "      <td>0</td>\n",
       "      <td>0</td>\n",
       "      <td>0</td>\n",
       "      <td>0</td>\n",
       "      <td>0</td>\n",
       "      <td>...</td>\n",
       "      <td>0</td>\n",
       "      <td>0</td>\n",
       "      <td>0</td>\n",
       "      <td>0</td>\n",
       "      <td>0</td>\n",
       "      <td>1</td>\n",
       "      <td>0</td>\n",
       "      <td>1</td>\n",
       "      <td>0</td>\n",
       "      <td>0</td>\n",
       "    </tr>\n",
       "    <tr>\n",
       "      <th>3</th>\n",
       "      <td>2015</td>\n",
       "      <td>1</td>\n",
       "      <td>0</td>\n",
       "      <td>1</td>\n",
       "      <td>0</td>\n",
       "      <td>0</td>\n",
       "      <td>0</td>\n",
       "      <td>0</td>\n",
       "      <td>0</td>\n",
       "      <td>0</td>\n",
       "      <td>...</td>\n",
       "      <td>0</td>\n",
       "      <td>0</td>\n",
       "      <td>0</td>\n",
       "      <td>0</td>\n",
       "      <td>0</td>\n",
       "      <td>1</td>\n",
       "      <td>0</td>\n",
       "      <td>0</td>\n",
       "      <td>0</td>\n",
       "      <td>0</td>\n",
       "    </tr>\n",
       "    <tr>\n",
       "      <th>4</th>\n",
       "      <td>2015</td>\n",
       "      <td>1</td>\n",
       "      <td>0</td>\n",
       "      <td>0</td>\n",
       "      <td>0</td>\n",
       "      <td>0</td>\n",
       "      <td>1</td>\n",
       "      <td>0</td>\n",
       "      <td>0</td>\n",
       "      <td>0</td>\n",
       "      <td>...</td>\n",
       "      <td>0</td>\n",
       "      <td>0</td>\n",
       "      <td>0</td>\n",
       "      <td>0</td>\n",
       "      <td>0</td>\n",
       "      <td>0</td>\n",
       "      <td>0</td>\n",
       "      <td>1</td>\n",
       "      <td>0</td>\n",
       "      <td>0</td>\n",
       "    </tr>\n",
       "  </tbody>\n",
       "</table>\n",
       "<p>5 rows × 22 columns</p>\n",
       "</div>"
      ],
      "text/plain": [
       "   release_year  Action  Adult  Adventure  Animation  Comedy  Crime  \\\n",
       "0          2015       1      0          1          0       0      0   \n",
       "1          2015       1      0          1          0       0      0   \n",
       "2          2015       0      0          1          0       0      0   \n",
       "3          2015       1      0          1          0       0      0   \n",
       "4          2015       1      0          0          0       0      1   \n",
       "\n",
       "   Documentary  Drama  Family  ...  History  Horror  Music  Mystery  Romance  \\\n",
       "0            0      0       0  ...        0       0      0        0        0   \n",
       "1            0      0       0  ...        0       0      0        0        0   \n",
       "2            0      0       0  ...        0       0      0        0        0   \n",
       "3            0      0       0  ...        0       0      0        0        0   \n",
       "4            0      0       0  ...        0       0      0        0        0   \n",
       "\n",
       "   Science Fiction  TV Movie  Thriller  War  Western  \n",
       "0                1         0         1    0        0  \n",
       "1                1         0         1    0        0  \n",
       "2                1         0         1    0        0  \n",
       "3                1         0         0    0        0  \n",
       "4                0         0         1    0        0  \n",
       "\n",
       "[5 rows x 22 columns]"
      ]
     },
     "execution_count": 21,
     "metadata": {},
     "output_type": "execute_result"
    }
   ],
   "source": [
    "# Convert the categorical variable into indicator variables\n",
    "genre_df=genre_df.set_index(['release_year'])['genres'].str.get_dummies('|').reset_index()\n",
    "genre_df.head() # Check whether the converting is well-performed."
   ]
  },
  {
   "cell_type": "code",
   "execution_count": 22,
   "metadata": {},
   "outputs": [
    {
     "data": {
      "text/plain": [
       "Action             2011\n",
       "Adult              1970\n",
       "Adventure          2008\n",
       "Animation          2013\n",
       "Comedy             2009\n",
       "Crime              2013\n",
       "Documentary        2011\n",
       "Drama              2011\n",
       "Family             2006\n",
       "Fantasy            2008\n",
       "Foreign            2008\n",
       "History            2009\n",
       "Horror             2012\n",
       "Music              2015\n",
       "Mystery            2009\n",
       "Romance            2007\n",
       "Science Fiction    2009\n",
       "TV Movie           2006\n",
       "Thriller           2011\n",
       "War                2008\n",
       "Western            2004\n",
       "dtype: int64"
      ]
     },
     "execution_count": 22,
     "metadata": {},
     "output_type": "execute_result"
    }
   ],
   "source": [
    "genre_df.groupby('release_year').sum().idxmax()  # The most popular year for each genre"
   ]
  },
  {
   "cell_type": "code",
   "execution_count": 23,
   "metadata": {},
   "outputs": [
    {
     "data": {
      "text/plain": [
       "Drama        42\n",
       "Comedy        9\n",
       "Adventure     2\n",
       "Action        1\n",
       "Thriller      1\n",
       "Horror        1\n",
       "dtype: int64"
      ]
     },
     "execution_count": 23,
     "metadata": {},
     "output_type": "execute_result"
    }
   ],
   "source": [
    "genre_year= genre_df.groupby('release_year').sum().idxmax(axis = 1) # The most popular(released) genre in each year\n",
    "genre_year.value_counts() # The most popular genre over the years"
   ]
  },
  {
   "cell_type": "markdown",
   "metadata": {},
   "source": [
    "### Research Question 2: What kinds of properties are associated with high revenue movies?"
   ]
  },
  {
   "cell_type": "markdown",
   "metadata": {},
   "source": [
    "> For the second research question, I investigate how several properties associated with \"high\" revenue movies.  \n",
    ">- As mentioned earlier, the adjusted revenue is used for the fair comparison. Then I defined 'High Revenue' group as the movies which achieved positive (adjusted) revenues. On the other hand, 'Low Revenue' group is defined as the movies with zero revenues. \n",
    ">- In this section, I visualized the association with high revenue movies through scatter plots using Matplotlib and compared the strength of the relationships using correlations.  "
   ]
  },
  {
   "cell_type": "code",
   "execution_count": 24,
   "metadata": {},
   "outputs": [],
   "source": [
    "# The low_revenue subset is consisted of the movies with zero revenues.\n",
    "low_revenue = movie_mod.query('revenue_adj < 0.001')  \n",
    "# The high_revenue subset is consisted of the movies with positive adjusted revenues.\n",
    "high_revenue = movie_mod.query('revenue_adj > 0')"
   ]
  },
  {
   "cell_type": "code",
   "execution_count": 25,
   "metadata": {},
   "outputs": [
    {
     "name": "stdout",
     "output_type": "stream",
     "text": [
      "The number of movies belongs to the low revenue subset :  1315\n",
      "The number of movies belongs to the high revenue subset :  3854\n"
     ]
    }
   ],
   "source": [
    "print(\"The number of movies belongs to the low revenue subset : \", len(low_revenue) ) \n",
    "print(\"The number of movies belongs to the high revenue subset : \", len(high_revenue) ) "
   ]
  },
  {
   "cell_type": "code",
   "execution_count": 26,
   "metadata": {},
   "outputs": [
    {
     "data": {
      "text/plain": [
       "Text(0.5, 1.0, 'Scatter plot Revenue (adj) & Budget (adj)')"
      ]
     },
     "execution_count": 26,
     "metadata": {},
     "output_type": "execute_result"
    },
    {
     "data": {
      "image/png": "[encoded data removed]",
      "text/plain": [
       "<Figure size 1440x1296 with 5 Axes>"
      ]
     },
     "metadata": {
      "needs_background": "light"
     },
     "output_type": "display_data"
    }
   ],
   "source": [
    "y=high_revenue['revenue_adj']\n",
    "x_pop = high_revenue['popularity']\n",
    "x_rt = high_revenue['runtime']\n",
    "x_vc = high_revenue['vote_count']\n",
    "x_va = high_revenue['vote_average']\n",
    "x_bd = high_revenue['budget_adj']\n",
    "\n",
    "plt.figure(figsize=[20, 18])\n",
    "\n",
    "\n",
    "plt.subplot(321)\n",
    "plt.grid(True)\n",
    "plt.scatter(x_pop, y, s=10)\n",
    "plt.xlabel('Popularity',  fontsize =10)\n",
    "plt.ylabel('Revenue (adj)', fontsize =10)\n",
    "plt.title('Scatter plot Revenue (adj) & Popularity', fontsize =10)\n",
    "\n",
    "plt.subplot(322)\n",
    "plt.grid(True)\n",
    "plt.scatter(x_rt, y, s=10)\n",
    "plt.xlabel('Runtime',  fontsize =10)\n",
    "plt.ylabel('Revenue (adj)', fontsize =10)\n",
    "plt.title('Scatter plot Revenue (adj) & Runtime', fontsize =10)\n",
    "\n",
    "plt.subplot(323)\n",
    "plt.grid(True)\n",
    "plt.scatter(x_vc, y, s=10)\n",
    "plt.xlabel('Vote Count',  fontsize =10)\n",
    "plt.ylabel('Revenue (adj)', fontsize =10)\n",
    "plt.title('Scatter plot Revenue (adj) & Vote Count', fontsize =10)\n",
    "\n",
    "\n",
    "plt.subplot(324)\n",
    "plt.grid(True)\n",
    "plt.scatter(x_va, y, s=10)\n",
    "plt.xlabel('Average Vote Count',  fontsize =10)\n",
    "plt.ylabel('Revenue (adj)', fontsize =10)\n",
    "plt.title('Scatter plot Revenue (adj) & Average Vote Count', fontsize =10)\n",
    "\n",
    "\n",
    "plt.subplot(325)\n",
    "plt.grid(True)\n",
    "plt.scatter(x_bd, y, s=10)\n",
    "plt.xlabel('Budget (adj)',  fontsize =10)\n",
    "plt.ylabel('Revenue (adj)', fontsize =10)\n",
    "plt.title('Scatter plot Revenue (adj) & Budget (adj)', fontsize =10)"
   ]
  },
  {
   "cell_type": "code",
   "execution_count": 27,
   "metadata": {
    "scrolled": false
   },
   "outputs": [
    {
     "data": {
      "text/plain": [
       "popularity     0.55\n",
       "runtime        0.28\n",
       "vote_count     0.65\n",
       "vote_average   0.27\n",
       "budget_adj     0.57\n",
       "dtype: float64"
      ]
     },
     "execution_count": 27,
     "metadata": {},
     "output_type": "execute_result"
    }
   ],
   "source": [
    "high_revenue[['popularity', 'runtime','vote_count', 'vote_average','budget_adj']].corrwith(high_revenue['revenue_adj'])"
   ]
  },
  {
   "cell_type": "markdown",
   "metadata": {},
   "source": [
    "> **Findings:** The scatter plots visualize the relationships between the adjusted revenue with other properties. According to the correlation coefficients, all properties basically show positive relationships with the level of revenues. Additionally, I want to point out the fact that a majority of movies which could make high revenues, have less than 200 miuntes of runtime. The movies with longer than 200 minutes runtime, could not make noticeable revenues.  "
   ]
  },
  {
   "cell_type": "markdown",
   "metadata": {},
   "source": [
    "### Research Question 3: Are the popular genres of movies significantly associated with the movies' revenues?"
   ]
  },
  {
   "cell_type": "markdown",
   "metadata": {},
   "source": [
    "> From the first research question, I found out that the genres: Drama and Comedy are the genres mostly released over the year. In this section, I compared the average revenue between complementary groups: one group with the movies that include a certain genre and the other doesn't. For example, I divide the whole samples into one group with the movies that belong to the genre: \"Drama\", and the other group with the movies whose genres do not include \"Drama\". \n",
    "- Among all 21 genres, I conducted the comparisons for the most popular five genres. \n",
    "- Then, using two samples independent t-test, I concluded whether the average revenues of the two groups are significantly different at a significance level 0.05. "
   ]
  },
  {
   "cell_type": "code",
   "execution_count": 28,
   "metadata": {},
   "outputs": [
    {
     "data": {
      "text/plain": [
       "1320"
      ]
     },
     "execution_count": 28,
     "metadata": {},
     "output_type": "execute_result"
    }
   ],
   "source": [
    "sum(movie_mod.revenue_adj.duplicated())"
   ]
  },
  {
   "cell_type": "code",
   "execution_count": 29,
   "metadata": {},
   "outputs": [
    {
     "data": {
      "text/html": [
       "<div>\n",
       "<style scoped>\n",
       "    .dataframe tbody tr th:only-of-type {\n",
       "        vertical-align: middle;\n",
       "    }\n",
       "\n",
       "    .dataframe tbody tr th {\n",
       "        vertical-align: top;\n",
       "    }\n",
       "\n",
       "    .dataframe thead th {\n",
       "        text-align: right;\n",
       "    }\n",
       "</style>\n",
       "<table border=\"1\" class=\"dataframe\">\n",
       "  <thead>\n",
       "    <tr style=\"text-align: right;\">\n",
       "      <th></th>\n",
       "      <th>revenue_adj</th>\n",
       "      <th>Action</th>\n",
       "      <th>Adult</th>\n",
       "      <th>Adventure</th>\n",
       "      <th>Animation</th>\n",
       "      <th>Comedy</th>\n",
       "      <th>Crime</th>\n",
       "      <th>Documentary</th>\n",
       "      <th>Drama</th>\n",
       "      <th>Family</th>\n",
       "      <th>...</th>\n",
       "      <th>History</th>\n",
       "      <th>Horror</th>\n",
       "      <th>Music</th>\n",
       "      <th>Mystery</th>\n",
       "      <th>Romance</th>\n",
       "      <th>Science Fiction</th>\n",
       "      <th>TV Movie</th>\n",
       "      <th>Thriller</th>\n",
       "      <th>War</th>\n",
       "      <th>Western</th>\n",
       "    </tr>\n",
       "  </thead>\n",
       "  <tbody>\n",
       "    <tr>\n",
       "      <th>0</th>\n",
       "      <td>1392445892.52</td>\n",
       "      <td>1</td>\n",
       "      <td>0</td>\n",
       "      <td>1</td>\n",
       "      <td>0</td>\n",
       "      <td>0</td>\n",
       "      <td>0</td>\n",
       "      <td>0</td>\n",
       "      <td>0</td>\n",
       "      <td>0</td>\n",
       "      <td>...</td>\n",
       "      <td>0</td>\n",
       "      <td>0</td>\n",
       "      <td>0</td>\n",
       "      <td>0</td>\n",
       "      <td>0</td>\n",
       "      <td>1</td>\n",
       "      <td>0</td>\n",
       "      <td>1</td>\n",
       "      <td>0</td>\n",
       "      <td>0</td>\n",
       "    </tr>\n",
       "    <tr>\n",
       "      <th>1</th>\n",
       "      <td>348161292.49</td>\n",
       "      <td>1</td>\n",
       "      <td>0</td>\n",
       "      <td>1</td>\n",
       "      <td>0</td>\n",
       "      <td>0</td>\n",
       "      <td>0</td>\n",
       "      <td>0</td>\n",
       "      <td>0</td>\n",
       "      <td>0</td>\n",
       "      <td>...</td>\n",
       "      <td>0</td>\n",
       "      <td>0</td>\n",
       "      <td>0</td>\n",
       "      <td>0</td>\n",
       "      <td>0</td>\n",
       "      <td>1</td>\n",
       "      <td>0</td>\n",
       "      <td>1</td>\n",
       "      <td>0</td>\n",
       "      <td>0</td>\n",
       "    </tr>\n",
       "    <tr>\n",
       "      <th>2</th>\n",
       "      <td>271619025.41</td>\n",
       "      <td>0</td>\n",
       "      <td>0</td>\n",
       "      <td>1</td>\n",
       "      <td>0</td>\n",
       "      <td>0</td>\n",
       "      <td>0</td>\n",
       "      <td>0</td>\n",
       "      <td>0</td>\n",
       "      <td>0</td>\n",
       "      <td>...</td>\n",
       "      <td>0</td>\n",
       "      <td>0</td>\n",
       "      <td>0</td>\n",
       "      <td>0</td>\n",
       "      <td>0</td>\n",
       "      <td>1</td>\n",
       "      <td>0</td>\n",
       "      <td>1</td>\n",
       "      <td>0</td>\n",
       "      <td>0</td>\n",
       "    </tr>\n",
       "    <tr>\n",
       "      <th>3</th>\n",
       "      <td>1902723129.80</td>\n",
       "      <td>1</td>\n",
       "      <td>0</td>\n",
       "      <td>1</td>\n",
       "      <td>0</td>\n",
       "      <td>0</td>\n",
       "      <td>0</td>\n",
       "      <td>0</td>\n",
       "      <td>0</td>\n",
       "      <td>0</td>\n",
       "      <td>...</td>\n",
       "      <td>0</td>\n",
       "      <td>0</td>\n",
       "      <td>0</td>\n",
       "      <td>0</td>\n",
       "      <td>0</td>\n",
       "      <td>1</td>\n",
       "      <td>0</td>\n",
       "      <td>0</td>\n",
       "      <td>0</td>\n",
       "      <td>0</td>\n",
       "    </tr>\n",
       "    <tr>\n",
       "      <th>4</th>\n",
       "      <td>1385748801.47</td>\n",
       "      <td>1</td>\n",
       "      <td>0</td>\n",
       "      <td>0</td>\n",
       "      <td>0</td>\n",
       "      <td>0</td>\n",
       "      <td>1</td>\n",
       "      <td>0</td>\n",
       "      <td>0</td>\n",
       "      <td>0</td>\n",
       "      <td>...</td>\n",
       "      <td>0</td>\n",
       "      <td>0</td>\n",
       "      <td>0</td>\n",
       "      <td>0</td>\n",
       "      <td>0</td>\n",
       "      <td>0</td>\n",
       "      <td>0</td>\n",
       "      <td>1</td>\n",
       "      <td>0</td>\n",
       "      <td>0</td>\n",
       "    </tr>\n",
       "  </tbody>\n",
       "</table>\n",
       "<p>5 rows × 22 columns</p>\n",
       "</div>"
      ],
      "text/plain": [
       "    revenue_adj  Action  Adult  Adventure  Animation  Comedy  Crime  \\\n",
       "0 1392445892.52       1      0          1          0       0      0   \n",
       "1  348161292.49       1      0          1          0       0      0   \n",
       "2  271619025.41       0      0          1          0       0      0   \n",
       "3 1902723129.80       1      0          1          0       0      0   \n",
       "4 1385748801.47       1      0          0          0       0      1   \n",
       "\n",
       "   Documentary  Drama  Family  ...  History  Horror  Music  Mystery  Romance  \\\n",
       "0            0      0       0  ...        0       0      0        0        0   \n",
       "1            0      0       0  ...        0       0      0        0        0   \n",
       "2            0      0       0  ...        0       0      0        0        0   \n",
       "3            0      0       0  ...        0       0      0        0        0   \n",
       "4            0      0       0  ...        0       0      0        0        0   \n",
       "\n",
       "   Science Fiction  TV Movie  Thriller  War  Western  \n",
       "0                1         0         1    0        0  \n",
       "1                1         0         1    0        0  \n",
       "2                1         0         1    0        0  \n",
       "3                1         0         0    0        0  \n",
       "4                0         0         1    0        0  \n",
       "\n",
       "[5 rows x 22 columns]"
      ]
     },
     "execution_count": 29,
     "metadata": {},
     "output_type": "execute_result"
    }
   ],
   "source": [
    "# As before, I converted the categorical variable \"genres\" into indicator variables. \n",
    "# However, this time, I set the feature 'revenue_adj' as the index, since we will compare the revenue between two sub-groups. \n",
    "genres_df=movie_mod.set_index([ 'revenue_adj'])['genres'].str.get_dummies('|').reset_index()\n",
    "genres_df.head()"
   ]
  },
  {
   "cell_type": "code",
   "execution_count": 30,
   "metadata": {},
   "outputs": [
    {
     "data": {
      "text/plain": [
       "(5169, 22)"
      ]
     },
     "execution_count": 30,
     "metadata": {},
     "output_type": "execute_result"
    }
   ],
   "source": [
    "genres_df.shape"
   ]
  },
  {
   "cell_type": "code",
   "execution_count": 31,
   "metadata": {},
   "outputs": [
    {
     "data": {
      "text/plain": [
       "revenue_adj       528247316427.92\n",
       "Drama                     2317.00\n",
       "Comedy                    1741.00\n",
       "Thriller                  1641.00\n",
       "Action                    1428.00\n",
       "Adventure                  906.00\n",
       "Romance                    861.00\n",
       "Crime                      823.00\n",
       "Horror                     765.00\n",
       "Science Fiction            701.00\n",
       "Family                     523.00\n",
       "Fantasy                    508.00\n",
       "Mystery                    440.00\n",
       "Animation                  260.00\n",
       "History                    183.00\n",
       "Music                      169.00\n",
       "War                        155.00\n",
       "Western                     74.00\n",
       "Documentary                 64.00\n",
       "Foreign                     35.00\n",
       "TV Movie                     9.00\n",
       "Adult                        1.00\n",
       "dtype: float64"
      ]
     },
     "execution_count": 31,
     "metadata": {},
     "output_type": "execute_result"
    }
   ],
   "source": [
    "genres_df.sum().sort_values(ascending=False) # Number of movies in each genres"
   ]
  },
  {
   "cell_type": "markdown",
   "metadata": {},
   "source": [
    "> By summing up the number of samples for eacn column, the genres: 'Drama', 'Comedy', 'Thriller', 'Action', 'Adventure' are the most popular (i.e. mostly released) five categories where the movies belong to."
   ]
  },
  {
   "cell_type": "code",
   "execution_count": 32,
   "metadata": {},
   "outputs": [
    {
     "data": {
      "text/plain": [
       "<matplotlib.axes._subplots.AxesSubplot at 0x288f1366e48>"
      ]
     },
     "execution_count": 32,
     "metadata": {},
     "output_type": "execute_result"
    },
    {
     "data": {
      "image/png": "[encoded data removed]",
      "text/plain": [
       "<Figure size 1440x360 with 5 Axes>"
      ]
     },
     "metadata": {
      "needs_background": "light"
     },
     "output_type": "display_data"
    }
   ],
   "source": [
    "# Plot the mean differences \n",
    "\n",
    "plt.figure(figsize=[20,5])\n",
    "\n",
    "plt.subplot(151)\n",
    "genres_df_Drama = genres_df.groupby('Drama')['revenue_adj'].mean() \n",
    "genres_df_Drama.plot.bar()\n",
    "plt.ylabel('Revenue (adj)', fontsize= 15)\n",
    "\n",
    "plt.subplot(152)\n",
    "test_df_Comedy = genres_df.groupby('Comedy')['revenue_adj'].mean() \n",
    "test_df_Comedy.plot.bar()\n",
    "\n",
    "plt.subplot(153)\n",
    "test_df_Thriller = genres_df.groupby('Thriller')['revenue_adj'].mean() \n",
    "test_df_Thriller.plot.bar()\n",
    "\n",
    "plt.subplot(154)\n",
    "test_df_Action = genres_df.groupby('Action')['revenue_adj'].mean() \n",
    "test_df_Action.plot.bar()\n",
    "\n",
    "plt.subplot(155)\n",
    "test_df_Romance = genres_df.groupby('Adventure')['revenue_adj'].mean() \n",
    "test_df_Romance.plot.bar()"
   ]
  },
  {
   "cell_type": "markdown",
   "metadata": {},
   "source": [
    "> **Findings:** It was quiet interesting findings for me. Drama and Comedy was the two genres that the mostly released since 1970. However, when we compare the average revenue of movies which belongs to the genres, with that of the movies that do not belong to the genres, Drama and Comedy movies do not seem actually lucrative. Thriller movies seem to be in the same situation.\n",
    "> On the other hand, movies that belong to the genres: Action or Adventure seem to make higher revenue than movies that do not belong to the categories. \n",
    "> To check out whether the mean differences are significant, I performed two samples independent t-tests for each genre. "
   ]
  },
  {
   "cell_type": "code",
   "execution_count": 33,
   "metadata": {},
   "outputs": [],
   "source": [
    "# Import the package for t-test\n",
    "from scipy import stats"
   ]
  },
  {
   "cell_type": "code",
   "execution_count": 34,
   "metadata": {
    "scrolled": true
   },
   "outputs": [
    {
     "name": "stdout",
     "output_type": "stream",
     "text": [
      "Ttest_indResult(statistic=-8.765116406910666, pvalue=2.5126722188154673e-18)\n"
     ]
    }
   ],
   "source": [
    "# T-test result for the Drama genre\n",
    "drama = genres_df[['revenue_adj','Drama']].query('Drama ==1')\n",
    "no_drama = genres_df[['revenue_adj','Drama']].query('Drama ==0')\n",
    "print (stats.ttest_ind(drama.revenue_adj, no_drama.revenue_adj, equal_var = False))"
   ]
  },
  {
   "cell_type": "code",
   "execution_count": 35,
   "metadata": {
    "scrolled": false
   },
   "outputs": [
    {
     "name": "stdout",
     "output_type": "stream",
     "text": [
      "Ttest_indResult(statistic=-2.2086143396962368, pvalue=0.027250242894697223)\n"
     ]
    }
   ],
   "source": [
    "# T-test result for the Comedy genre\n",
    "comedy = genres_df[['revenue_adj','Comedy']].query('Comedy ==1')\n",
    "no_comedy = genres_df[['revenue_adj','Comedy']].query('Comedy ==0')\n",
    "print (stats.ttest_ind(comedy.revenue_adj, no_comedy.revenue_adj, equal_var = False))"
   ]
  },
  {
   "cell_type": "code",
   "execution_count": 36,
   "metadata": {},
   "outputs": [
    {
     "name": "stdout",
     "output_type": "stream",
     "text": [
      "Ttest_indResult(statistic=-2.1144470992916733, pvalue=0.03454776508792962)\n"
     ]
    }
   ],
   "source": [
    "# T-test result for the Thriller genre\n",
    "thriller = genres_df[['revenue_adj','Thriller']].query('Thriller ==1')\n",
    "no_thriller = genres_df[['revenue_adj','Thriller']].query('Thriller ==0')\n",
    "print (stats.ttest_ind(thriller.revenue_adj, no_thriller.revenue_adj, equal_var = False))"
   ]
  },
  {
   "cell_type": "code",
   "execution_count": 37,
   "metadata": {},
   "outputs": [
    {
     "name": "stdout",
     "output_type": "stream",
     "text": [
      "Ttest_indResult(statistic=8.910425081087276, pvalue=1.147643032604205e-18)\n"
     ]
    }
   ],
   "source": [
    "# T-test result for the Action genre\n",
    "action = genres_df[['revenue_adj','Action']].query('Action ==1')\n",
    "no_action = genres_df[['revenue_adj','Action']].query('Action ==0')\n",
    "print (stats.ttest_ind(action.revenue_adj, no_action.revenue_adj, equal_var = False))"
   ]
  },
  {
   "cell_type": "code",
   "execution_count": 38,
   "metadata": {},
   "outputs": [
    {
     "name": "stdout",
     "output_type": "stream",
     "text": [
      "Ttest_indResult(statistic=13.476314674543284, pvalue=4.224720314031549e-38)\n"
     ]
    }
   ],
   "source": [
    "# T-test result for the Romance genre\n",
    "romance = genres_df[['revenue_adj','Adventure']].query('Adventure ==1')\n",
    "no_romance = genres_df[['revenue_adj','Adventure']].query('Adventure ==0')\n",
    "print (stats.ttest_ind(romance.revenue_adj, no_romance.revenue_adj, equal_var = False))"
   ]
  },
  {
   "cell_type": "markdown",
   "metadata": {},
   "source": [
    "> The returns of T-tests are statistic(calculated t-statistic) and pvalue(two-tailed p-value). The pvalue for one-tailed test is the half of the pvalue for two-tailed p-value. Since the p-values for two-tailed test are all smaller than the significant level 0.05, we can interpret the test results as follows: \n",
    "- The average revenue between \"Drama and Non-Drama\"/ \"Comedy and Non-Comedy\"/ \"Thriller and Non-Thriller\"/ \"Action and Non-Action\"/ \"Adventure and Non-Adventure\" movies is statistically different at a significant level 0.05."
   ]
  },
  {
   "cell_type": "markdown",
   "metadata": {},
   "source": [
    "### Research Question 4:  How does the annual revenue in moive industry change over the years?"
   ]
  },
  {
   "cell_type": "markdown",
   "metadata": {},
   "source": [
    "> In this part, I analysed the overall trend of the average annual revenue using moving averages. Comparing to 5-, 15-years of moving averages, 10-year moving averages (denoted as 'MA(10)') is chosen since the MA(10) trendline is smooth enough to capture the trend, but it still includes enough information from the original data."
   ]
  },
  {
   "cell_type": "code",
   "execution_count": 39,
   "metadata": {},
   "outputs": [],
   "source": [
    "mean_rev= movie_mod.groupby('release_year', as_index= False )['revenue_adj'].mean()\n",
    "mean_rev['revenue_adj_MA10'] = mean_rev.iloc[:,1].rolling(window =10).mean()"
   ]
  },
  {
   "cell_type": "code",
   "execution_count": 40,
   "metadata": {
    "scrolled": false
   },
   "outputs": [
    {
     "data": {
      "text/plain": [
       "Text(0, 0.5, 'Adjusted Revenue MA(10)')"
      ]
     },
     "execution_count": 40,
     "metadata": {},
     "output_type": "execute_result"
    },
    {
     "data": {
      "image/png": "[encoded data removed]",
      "text/plain": [
       "<Figure size 576x432 with 1 Axes>"
      ]
     },
     "metadata": {
      "needs_background": "light"
     },
     "output_type": "display_data"
    }
   ],
   "source": [
    "plt.figure(figsize=[8,6])\n",
    "plt.grid(True)\n",
    "x = mean_rev['release_year']\n",
    "plt.plot(x, mean_rev['revenue_adj_MA10'])\n",
    "plt.xlabel('Released year',  fontsize =10)\n",
    "plt.ylabel('Adjusted Revenue MA(10)', fontsize =10)"
   ]
  },
  {
   "cell_type": "markdown",
   "metadata": {},
   "source": [
    "> **Findings:** According to the MA(10) line plot, the average revenue of the movies increased until the year 1980, the the revenue decrease dramatically for the next decade. Since special effects (expensive digital effects) are introduced and up-front salaries of name-recognition stars (and their agents) is inflated in 1980s, these could be the reasons of decreasing the film's gross revenue. After 1990, the revenue appears to increaes again, but the increase could not reach the peak point like in early 1980s. From 2000, the revenue continues reduction trend. [Reference: Film History of 1980s](https://www.filmsite.org/80sintro.html)"
   ]
  },
  {
   "cell_type": "markdown",
   "metadata": {},
   "source": [
    "### Research Question 5: Does the average popularity increase over the year?"
   ]
  },
  {
   "cell_type": "markdown",
   "metadata": {},
   "source": [
    "> Finally, I briefly investigate how the average popularity of the movies look like over the years. I also analyse the trend of popularity using 10-year moving averages. "
   ]
  },
  {
   "cell_type": "code",
   "execution_count": 41,
   "metadata": {},
   "outputs": [],
   "source": [
    "mean_pop= movie_mod.groupby('release_year', as_index= False )['popularity'].mean()\n",
    "mean_pop['popularity_MA10'] = mean_pop.iloc[:,1].rolling(window =10).mean()"
   ]
  },
  {
   "cell_type": "code",
   "execution_count": 42,
   "metadata": {},
   "outputs": [
    {
     "data": {
      "text/plain": [
       "Text(0, 0.5, 'Popularity MA(10)')"
      ]
     },
     "execution_count": 42,
     "metadata": {},
     "output_type": "execute_result"
    },
    {
     "data": {
      "image/png": "[encoded data removed]",
      "text/plain": [
       "<Figure size 576x432 with 1 Axes>"
      ]
     },
     "metadata": {
      "needs_background": "light"
     },
     "output_type": "display_data"
    }
   ],
   "source": [
    "plt.figure(figsize=[8,6])\n",
    "plt.grid(True)\n",
    "x = mean_pop['release_year']\n",
    "plt.plot(x, mean_pop['popularity_MA10'])\n",
    "plt.xlabel('Released year',  fontsize =10)\n",
    "plt.ylabel('Popularity MA(10)', fontsize =10)"
   ]
  },
  {
   "cell_type": "markdown",
   "metadata": {},
   "source": [
    "> **Findings:** Unlike the trendline of revenue, the popularity trendline goes up over the years."
   ]
  },
  {
   "cell_type": "markdown",
   "metadata": {},
   "source": [
    "<a id='conclusions'></a>\n",
    "## Conclusions\n"
   ]
  },
  {
   "cell_type": "markdown",
   "metadata": {},
   "source": [
    "> So far, we have investigated the movie dataset collected from 1970 to 2015. For the comparable analysis over the years, adjusted budgets and adjusted revenues are taken. Movies with zero budgets are practically unreliable, so they are dropped at the beginning of the investigation. \n",
    "> - Among the 20 different genres, the heyday of each genre is all different. For example, the genre music dominates in 2015, and Adult genre dominated in 1970. Drama was the steadily best-loved genre over the years. Also, there are several years that comedy genre was more popluar than drama. \n",
    "> - The properties: popularity, running time, vote and budget of movies are positively related with the high revenue of movies. \n",
    "> - The average revenue of the movies which belong to the two genres: Drama or Comedy is significantly less than the revenue from non-Drama or non-Comedy movies, at a significant level 0.05. \n",
    "> - While the number of movies released in each year is growing fast and the movies enjoy the rise in its popularity over the years, the average revenue of movies released in individual year is gradually decreasing since 1980. \n",
    "> - One limitation of this analysis is the comparisons between genres. A majority of movies are consisted of the mixture of several genres. Since genres are not completely independent, it is difficult to measure the average popularity / revenue of each single genre and compare one another. Also, there might be able to exist the combination effects. For example, drama is the most popluar genre from year to year because drama can easily combined with other genres, such as action-drama, thriller-drama, comedy-drama and so on. "
   ]
  }
 ],
 "metadata": {
  "kernelspec": {
   "display_name": "Python 3",
   "language": "python",
   "name": "python3"
  },
  "language_info": {
   "codemirror_mode": {
    "name": "ipython",
    "version": 3
   },
   "file_extension": ".py",
   "mimetype": "text/x-python",
   "name": "python",
   "nbconvert_exporter": "python",
   "pygments_lexer": "ipython3",
   "version": "3.7.6"
  }
 },
 "nbformat": 4,
 "nbformat_minor": 2
}
